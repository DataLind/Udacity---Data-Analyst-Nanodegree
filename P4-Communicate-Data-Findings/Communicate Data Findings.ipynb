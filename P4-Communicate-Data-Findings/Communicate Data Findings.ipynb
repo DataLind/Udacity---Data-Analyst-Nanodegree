{
 "cells": [
  {
   "cell_type": "markdown",
   "metadata": {},
   "source": [
    "# Project: Wrangle and Analyze Data\n",
    "By: Christoph Lindstädt\n",
    "## Table of Contents\n",
    "<ul>\n",
    "    <li><a href=\"#intro\">Introduction</a></li>\n",
    "    <li><a href=\"#questions\">Posing Questions</a></li>\n",
    "    <li><a href=\"#sources\">Data Sources</a></li>\n",
    "    <li><a href=\"#gathering\">Data Gathering</a></li>\n",
    "    <li><a href=\"#assessing\">Data Assessing</a></li>\n",
    "    <ul>\n",
    "        <li><a href=\"#assessingsum\">Assessing Summary</a></li>            \n",
    "    </ul>    \n",
    "    <li><a href=\"#cleaning\">Data Cleaning</a></li>\n",
    "    <li><a href=\"#analysis\">Data Analysis</a></li>\n",
    "    <ul>\n",
    "        <li><a href=\"#uni\">Univariate Exploration</a></li>\n",
    "        <li><a href=\"#bi\">Bivariate Exploration</a></li>\n",
    "        <li><a href=\"#multi\">Multivariate Exploration</a></li> \n",
    "    </ul> \n",
    "    <li><a href=\"#conclusion\">Summary and Conclusions</a></li>\n",
    "</ul>"
   ]
  },
  {
   "cell_type": "markdown",
   "metadata": {},
   "source": [
    "<a id='intro'></a>\n",
    "## Introduction"
   ]
  },
  {
   "cell_type": "markdown",
   "metadata": {},
   "source": [
    "<a id='questions'></a>\n",
    "## Posing Questions"
   ]
  },
  {
   "cell_type": "markdown",
   "metadata": {},
   "source": [
    "The following analysis will take a look on the following questions:\n",
    "><ol>\n",
    ">    <li><p>Q1</p></li>     \n",
    ">    <li><p>Q2</p></li>     \n",
    "></ol>"
   ]
  },
  {
   "cell_type": "markdown",
   "metadata": {},
   "source": [
    "<a id='sources'></a>\n",
    "## Data Sources\n",
    "\n",
    ">1. **Name:**</li>\n",
    "><ul>   \n",
    ">    <li><b>Source:</b> <a href =\"\"></a></li>    \n",
    ">    <li><b>Description:</b></li>\n",
    ">    <li><b>Version:</b></li>\n",
    ">    <li><b>Method of gathering:</b> Manual download</li>\n",
    "></ul>\n"
   ]
  },
  {
   "cell_type": "markdown",
   "metadata": {},
   "source": [
    "#### Import of the needed libraries:"
   ]
  },
  {
   "cell_type": "code",
   "execution_count": 10,
   "metadata": {},
   "outputs": [],
   "source": [
    "import numpy as np\n",
    "import pandas as pd\n",
    "import matplotlib.pyplot as plt\n",
    "import seaborn as sns\n",
    "import missingno as ms\n",
    "\n",
    "%matplotlib inline\n",
    "%config InlineBackend.figure_format = 'retina'"
   ]
  },
  {
   "cell_type": "markdown",
   "metadata": {},
   "source": [
    "<a id='gathering'></a>\n",
    "## Data Gathering"
   ]
  },
  {
   "cell_type": "markdown",
   "metadata": {},
   "source": [
    "<a id='assessing'></a>\n",
    "## Data Assessing"
   ]
  },
  {
   "cell_type": "markdown",
   "metadata": {},
   "source": [
    "<a id='assessingsum'></a>\n",
    "### Assessing Summary"
   ]
  },
  {
   "cell_type": "markdown",
   "metadata": {},
   "source": [
    "#### Quality\n",
    "##### \"name\" table\n",
    "- quality issue\n"
   ]
  },
  {
   "cell_type": "markdown",
   "metadata": {},
   "source": [
    "#### Tidiness\n",
    "##### \"name\" table\n",
    "- tidiness issue"
   ]
  },
  {
   "cell_type": "markdown",
   "metadata": {},
   "source": [
    "<a id='cleaning'></a>\n",
    "## Data Cleaning"
   ]
  },
  {
   "cell_type": "markdown",
   "metadata": {},
   "source": [
    "### Issue #1\n",
    "> #### Define #1\n",
    "> Text describing the issue\n",
    "\n",
    "> #### Clean #1"
   ]
  },
  {
   "cell_type": "code",
   "execution_count": 4,
   "metadata": {},
   "outputs": [],
   "source": [
    "# Code"
   ]
  },
  {
   "cell_type": "markdown",
   "metadata": {},
   "source": [
    "> #### Test #1"
   ]
  },
  {
   "cell_type": "code",
   "execution_count": 5,
   "metadata": {},
   "outputs": [],
   "source": [
    "# Code"
   ]
  },
  {
   "cell_type": "markdown",
   "metadata": {},
   "source": [
    "<a id='analysis'></a>\n",
    "## Data Analysis"
   ]
  },
  {
   "cell_type": "markdown",
   "metadata": {},
   "source": [
    "<a id='uni'></a>\n",
    "### Univariate Exploration\n",
    "\n",
    "> Distribution, unusual points, transformations, changes in data - why?"
   ]
  },
  {
   "cell_type": "markdown",
   "metadata": {},
   "source": [
    "<a id='bi'></a>\n",
    "### Bivariate Exploration\n",
    "> Relationships"
   ]
  },
  {
   "cell_type": "markdown",
   "metadata": {},
   "source": [
    "<a id='multi'></a>\n",
    "### Multivariate Exploration\n",
    "> Relationships"
   ]
  },
  {
   "cell_type": "markdown",
   "metadata": {},
   "source": [
    "<a id='conclusion'></a>\n",
    "## Summary and Conclusions"
   ]
  },
  {
   "cell_type": "markdown",
   "metadata": {},
   "source": [
    "**Discussed questions:**\n",
    "><ol>\n",
    ">    <li><p><b>Question</b></p></li>\n",
    "> Answer \n",
    ">    <li><p><b>Question</b></p></li>\n",
    "> Answer\n",
    "></ol>\n",
    "\n",
    "**Limitations due to the cleaning process in the used datasets:**\n",
    "\n",
    "><ol>\n",
    "    ><li><p>Describing limitations to the original dataset</li>\n",
    "></ol>\n",
    "\n",
    "**Summary**\n",
    "><ol>\n",
    ">  Summary and Conclusions\n",
    "</ol>"
   ]
  },
  {
   "cell_type": "code",
   "execution_count": null,
   "metadata": {},
   "outputs": [],
   "source": []
  }
 ],
 "metadata": {
  "kernelspec": {
   "display_name": "Python 3",
   "language": "python",
   "name": "python3"
  },
  "language_info": {
   "codemirror_mode": {
    "name": "ipython",
    "version": 3
   },
   "file_extension": ".py",
   "mimetype": "text/x-python",
   "name": "python",
   "nbconvert_exporter": "python",
   "pygments_lexer": "ipython3",
   "version": "3.6.8"
  }
 },
 "nbformat": 4,
 "nbformat_minor": 2
}
